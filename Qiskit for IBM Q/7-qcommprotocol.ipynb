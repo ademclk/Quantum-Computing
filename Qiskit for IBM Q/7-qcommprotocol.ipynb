{
 "cells": [
  {
   "cell_type": "code",
   "execution_count": 1,
   "metadata": {},
   "outputs": [],
   "source": [
    "# Entanglement in action: using a protocol for quantum communication.\n",
    "from qiskit import QuantumCircuit\n",
    "from qiskit.quantum_info import Statevector"
   ]
  },
  {
   "cell_type": "code",
   "execution_count": 2,
   "metadata": {},
   "outputs": [],
   "source": [
    "MESSAGE = '00'\n",
    "\n",
    "# A encodes message\n",
    "\n",
    "qc_a = QuantumCircuit (2, 2)\n",
    "\n",
    "if MESSAGE[-1]=='1':\n",
    "    qc_a.x(0)\n",
    "if MESSAGE[-2]=='1':\n",
    "    qc_a.x(1)"
   ]
  },
  {
   "cell_type": "code",
   "execution_count": 3,
   "metadata": {},
   "outputs": [
    {
     "data": {
      "text/plain": [
       "{'00': 1024}"
      ]
     },
     "execution_count": 3,
     "metadata": {},
     "output_type": "execute_result"
    }
   ],
   "source": [
    "from qiskit import Aer\n",
    "backend = Aer.get_backend('aer_simulator')\n",
    "\n",
    "# B measures\n",
    "\n",
    "qc_b = QuantumCircuit(2, 2)\n",
    "qc_b.measure([0,1], [0,1])\n",
    "\n",
    "backend.run(qc_a.compose(qc_b)).result().get_counts()"
   ]
  },
  {
   "cell_type": "code",
   "execution_count": 4,
   "metadata": {},
   "outputs": [
    {
     "data": {
      "text/plain": [
       "'Statevector([0.70710678+0.j, 0.        +0.j, 0.        +0.j,\\n             0.70710678+0.j],\\n            dims=(2, 2))'"
      ]
     },
     "execution_count": 4,
     "metadata": {},
     "output_type": "execute_result"
    }
   ],
   "source": [
    "MESSAGE = '00'\n",
    "\n",
    "qc_a = QuantumCircuit(2, 2)\n",
    "\n",
    "# A encodes\n",
    "\n",
    "if MESSAGE[-1]=='1':\n",
    "    qc_a.x(0)\n",
    "if MESSAGE[-2]=='1':\n",
    "    qc_a.x(1)\n",
    "\n",
    "# A creates entangled states\n",
    "\n",
    "qc_a.h(1)\n",
    "qc_a.cx(1,0)\n",
    "\n",
    "ket = Statevector(qc_a)\n",
    "ket.draw()"
   ]
  },
  {
   "cell_type": "code",
   "execution_count": 42,
   "metadata": {},
   "outputs": [
    {
     "data": {
      "text/plain": [
       "<qiskit.circuit.instructionset.InstructionSet at 0x1c7ee560130>"
      ]
     },
     "execution_count": 42,
     "metadata": {},
     "output_type": "execute_result"
    }
   ],
   "source": [
    "qc_b = QuantumCircuit(2, 2)\n",
    "\n",
    "# B unentangles\n",
    "\n",
    "qc_b.cx(0,1)\n",
    "qc_b.h(0)\n",
    "\n",
    "# B measures\n",
    "qc_b.measure([0,1], [0,1])\n",
    "\n",
    "# Need to compose it with qubits from source a."
   ]
  },
  {
   "cell_type": "code",
   "execution_count": 44,
   "metadata": {},
   "outputs": [
    {
     "data": {
      "text/plain": [
       "'Statevector([0.70710678+0.j, 0.        +0.j, 0.        +0.j,\\n             0.70710678+0.j],\\n            dims=(2, 2))'"
      ]
     },
     "execution_count": 44,
     "metadata": {},
     "output_type": "execute_result"
    }
   ],
   "source": [
    "MESSAGE = '00'\n",
    "\n",
    "qc_a = QuantumCircuit(2,2)\n",
    "qc_a.h(1)\n",
    "qc_a.cx(1,0)\n",
    "\n",
    "if MESSAGE[-2]=='1':\n",
    "    qc_a.x(1)\n",
    "if MESSAGE[-1]=='1':\n",
    "    qc_a.z(1)\n",
    "\n",
    "ket = Statevector(qc_a)\n",
    "ket.draw()"
   ]
  },
  {
   "cell_type": "code",
   "execution_count": 45,
   "metadata": {},
   "outputs": [
    {
     "data": {
      "text/plain": [
       "{'00': 1024}"
      ]
     },
     "execution_count": 45,
     "metadata": {},
     "output_type": "execute_result"
    }
   ],
   "source": [
    "backend.run(qc_a.compose(qc_b)).result().get_counts()"
   ]
  },
  {
   "cell_type": "code",
   "execution_count": 46,
   "metadata": {},
   "outputs": [
    {
     "data": {
      "text/plain": [
       "<qiskit.circuit.instructionset.InstructionSet at 0x1c7f00e7dc0>"
      ]
     },
     "execution_count": 46,
     "metadata": {},
     "output_type": "execute_result"
    }
   ],
   "source": [
    "qc_c = QuantumCircuit(2,2)\n",
    "\n",
    "qc_c.h(1)\n",
    "qc_c.cx(1,0)"
   ]
  },
  {
   "cell_type": "code",
   "execution_count": 47,
   "metadata": {},
   "outputs": [],
   "source": [
    "MESSAGE = '01'\n",
    "\n",
    "qc_a = QuantumCircuit(2,2)\n",
    "\n",
    "if MESSAGE[-2]=='1':\n",
    "    qc_a.x(1)\n",
    "if MESSAGE[-1]=='1':\n",
    "    qc_a.z(1)"
   ]
  },
  {
   "cell_type": "code",
   "execution_count": 48,
   "metadata": {},
   "outputs": [
    {
     "data": {
      "text/plain": [
       "{'01': 1024}"
      ]
     },
     "execution_count": 48,
     "metadata": {},
     "output_type": "execute_result"
    }
   ],
   "source": [
    "comp_qc = qc_c.compose(qc_a.compose(qc_b))\n",
    "backend.run(comp_qc).result().get_counts()"
   ]
  }
 ],
 "metadata": {
  "interpreter": {
   "hash": "b3ba2566441a7c06988d0923437866b63cedc61552a5af99d1f4fb67d367b25f"
  },
  "kernelspec": {
   "display_name": "Python 3.8.8 64-bit ('base': conda)",
   "language": "python",
   "name": "python3"
  },
  "language_info": {
   "codemirror_mode": {
    "name": "ipython",
    "version": 3
   },
   "file_extension": ".py",
   "mimetype": "text/x-python",
   "name": "python",
   "nbconvert_exporter": "python",
   "pygments_lexer": "ipython3",
   "version": "3.8.8"
  },
  "orig_nbformat": 4
 },
 "nbformat": 4,
 "nbformat_minor": 2
}
